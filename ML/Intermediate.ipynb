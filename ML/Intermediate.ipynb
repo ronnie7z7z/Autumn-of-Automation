{
  "nbformat": 4,
  "nbformat_minor": 0,
  "metadata": {
    "colab": {
      "name": "Intermediate.ipynb",
      "provenance": [],
      "collapsed_sections": []
    },
    "kernelspec": {
      "name": "python3",
      "display_name": "Python 3"
    }
  },
  "cells": [
    {
      "cell_type": "code",
      "metadata": {
        "id": "y_6yFsQYDGsq",
        "colab_type": "code",
        "colab": {}
      },
      "source": [
        "import os\n",
        "import pathlib\n",
        "import numpy as np\n",
        "import cv2\n",
        "import glob\n",
        "import shutil\n",
        "from matplotlib import pyplot as plt\n",
        "import random"
      ],
      "execution_count": 1,
      "outputs": []
    },
    {
      "cell_type": "code",
      "metadata": {
        "id": "441vcL6sDWTQ",
        "colab_type": "code",
        "colab": {}
      },
      "source": [
        "import tensorflow as tf\n",
        "from tensorflow.keras.models import Sequential\n",
        "from tensorflow.keras.layers import Dense, Conv2D, Flatten, Dropout, MaxPooling2D"
      ],
      "execution_count": 2,
      "outputs": []
    },
    {
      "cell_type": "code",
      "metadata": {
        "id": "7zkZEX2AD2E2",
        "colab_type": "code",
        "colab": {
          "base_uri": "https://localhost:8080/",
          "height": 141
        },
        "outputId": "1496a48d-8cf2-49e0-ade5-af721b57a6c4"
      },
      "source": [
        "from google.colab import drive\n",
        "drive.mount(\"/content/drive\")\n",
        "!ls\n",
        "\n",
        "data = pathlib.Path('/content/drive/My Drive/Intermediate_Assignment_Dataset') \n",
        "count = len(list(data.glob('*.pgm')))\n",
        "base_dir = str(data)"
      ],
      "execution_count": 3,
      "outputs": [
        {
          "output_type": "stream",
          "text": [
            "Go to this URL in a browser: https://accounts.google.com/o/oauth2/auth?client_id=947318989803-6bn6qk8qdgf4n4g3pfee6491hc0brc4i.apps.googleusercontent.com&redirect_uri=urn%3aietf%3awg%3aoauth%3a2.0%3aoob&response_type=code&scope=email%20https%3a%2f%2fwww.googleapis.com%2fauth%2fdocs.test%20https%3a%2f%2fwww.googleapis.com%2fauth%2fdrive%20https%3a%2f%2fwww.googleapis.com%2fauth%2fdrive.photos.readonly%20https%3a%2f%2fwww.googleapis.com%2fauth%2fpeopleapi.readonly\n",
            "\n",
            "Enter your authorization code:\n",
            "··········\n",
            "Mounted at /content/drive\n",
            "drive  sample_data\n"
          ],
          "name": "stdout"
        }
      ]
    },
    {
      "cell_type": "code",
      "metadata": {
        "id": "DyHKADJ_D95-",
        "colab_type": "code",
        "colab": {}
      },
      "source": [
        "classes = ['YesSunglasses', 'NoSunglasses']\n",
        "new_dir = \"/content/sample_data/Intermediate_Assignment_Dataset\""
      ],
      "execution_count": 4,
      "outputs": []
    },
    {
      "cell_type": "code",
      "metadata": {
        "id": "0ezQXcH6DyPk",
        "colab_type": "code",
        "colab": {
          "base_uri": "https://localhost:8080/",
          "height": 52
        },
        "outputId": "086742e9-4e40-4555-de78-18b7cba8a54d"
      },
      "source": [
        "#Creating a copy of images in a temporary location in collab\n",
        "#It'll take a minute or two\n",
        "\n",
        "for cl in classes:\n",
        "    code = base_dir + '/' + cl\n",
        "    images = glob.glob(code + '*.pgm')\n",
        "    print('There are total {} images of {}'.format(len(images),cl))\n",
        "\n",
        "    for i in images:\n",
        "        if not os.path.exists(os.path.join(new_dir, cl)):\n",
        "            os.makedirs(os.path.join(new_dir, cl))\n",
        "        shutil.copy(i, os.path.join(new_dir, cl))"
      ],
      "execution_count": 8,
      "outputs": [
        {
          "output_type": "stream",
          "text": [
            "There are total 311 images of YesSunglasses\n",
            "There are total 313 images of NoSunglasses\n"
          ],
          "name": "stdout"
        }
      ]
    },
    {
      "cell_type": "code",
      "metadata": {
        "id": "_1_xpJ3ODy5z",
        "colab_type": "code",
        "colab": {
          "base_uri": "https://localhost:8080/",
          "height": 34
        },
        "outputId": "4cd57ef0-174b-4e32-f704-b960fe1c1c28"
      },
      "source": [
        "all_imgs = []\n",
        "imgshp = 50\n",
        "for cl in classes:\n",
        "  path = os.path.join(new_dir,cl)\n",
        "  class_num = classes.index(cl)\n",
        "  for im in os.listdir(path):\n",
        "    try:\n",
        "      img = cv2.imread(os.path.join(path,im),0)\n",
        "      img = cv2.resize(img, (imgshp,imgshp))\n",
        "\n",
        "      all_imgs.append([img,class_num])\n",
        "    except Exception as e:\n",
        "      pass\n",
        "print(len(all_imgs))"
      ],
      "execution_count": 9,
      "outputs": [
        {
          "output_type": "stream",
          "text": [
            "624\n"
          ],
          "name": "stdout"
        }
      ]
    },
    {
      "cell_type": "code",
      "metadata": {
        "id": "v2w90xJFDzEA",
        "colab_type": "code",
        "colab": {}
      },
      "source": [
        "#Shuffling the data\n",
        "\n",
        "random.shuffle(all_imgs)"
      ],
      "execution_count": 10,
      "outputs": []
    },
    {
      "cell_type": "code",
      "metadata": {
        "id": "-oKA0IGgDzOk",
        "colab_type": "code",
        "colab": {}
      },
      "source": [
        "features = []\n",
        "labels = []\n",
        "\n",
        "for feature,label in all_imgs:\n",
        "  features.append(feature)\n",
        "  labels.append(label)\n",
        "\n",
        "\n",
        "features = np.array(features).reshape(-1, imgshp, imgshp, 1) \n",
        "labels = np.array(labels)\n",
        "\n",
        "features = features/255.0"
      ],
      "execution_count": 11,
      "outputs": []
    },
    {
      "cell_type": "code",
      "metadata": {
        "id": "431JszW6DzW2",
        "colab_type": "code",
        "colab": {}
      },
      "source": [
        "#Design and compilation of the model\n",
        "\n",
        "model = Sequential()\n",
        "\n",
        "model.add(Conv2D(64, (3,3), activation='relu', input_shape = features.shape[1:]))\n",
        "model.add(MaxPooling2D(pool_size=(2, 2)))\n",
        "\n",
        "model.add(Conv2D(64, (3,3), activation='relu'))\n",
        "model.add(MaxPooling2D(pool_size=(2, 2)))\n",
        "\n",
        "model.add(Flatten())\n",
        "model.add(Dropout(0.2))\n",
        "model.add(Dense(128, activation='relu'))\n",
        "\n",
        "model.add(Dense(1, activation = 'sigmoid'))\n",
        "\n",
        "model.compile(loss = 'binary_crossentropy',\n",
        "              optimizer = 'adam',\n",
        "              metrics = ['accuracy'])"
      ],
      "execution_count": 12,
      "outputs": []
    },
    {
      "cell_type": "code",
      "metadata": {
        "id": "i9AwZbUmDze4",
        "colab_type": "code",
        "colab": {
          "base_uri": "https://localhost:8080/",
          "height": 555
        },
        "outputId": "5093ac88-4ae8-454c-acd2-68a4ce83d97a"
      },
      "source": [
        "model.fit(features, labels, batch_size=100, epochs = 15, validation_split = 0.2)"
      ],
      "execution_count": 13,
      "outputs": [
        {
          "output_type": "stream",
          "text": [
            "Epoch 1/15\n",
            "5/5 [==============================] - 2s 442ms/step - loss: 0.6979 - accuracy: 0.4930 - val_loss: 0.6832 - val_accuracy: 0.4640\n",
            "Epoch 2/15\n",
            "5/5 [==============================] - 2s 405ms/step - loss: 0.6518 - accuracy: 0.7615 - val_loss: 0.6921 - val_accuracy: 0.4480\n",
            "Epoch 3/15\n",
            "5/5 [==============================] - 2s 404ms/step - loss: 0.5824 - accuracy: 0.7094 - val_loss: 0.5458 - val_accuracy: 0.8560\n",
            "Epoch 4/15\n",
            "5/5 [==============================] - 2s 404ms/step - loss: 0.4730 - accuracy: 0.8176 - val_loss: 0.4847 - val_accuracy: 0.7920\n",
            "Epoch 5/15\n",
            "5/5 [==============================] - 2s 407ms/step - loss: 0.4059 - accuracy: 0.8277 - val_loss: 0.4006 - val_accuracy: 0.8400\n",
            "Epoch 6/15\n",
            "5/5 [==============================] - 2s 410ms/step - loss: 0.3351 - accuracy: 0.8537 - val_loss: 0.4533 - val_accuracy: 0.7360\n",
            "Epoch 7/15\n",
            "5/5 [==============================] - 2s 442ms/step - loss: 0.2855 - accuracy: 0.8938 - val_loss: 0.3040 - val_accuracy: 0.8640\n",
            "Epoch 8/15\n",
            "5/5 [==============================] - 2s 479ms/step - loss: 0.2269 - accuracy: 0.9279 - val_loss: 0.2557 - val_accuracy: 0.8960\n",
            "Epoch 9/15\n",
            "5/5 [==============================] - 2s 480ms/step - loss: 0.1924 - accuracy: 0.9419 - val_loss: 0.2022 - val_accuracy: 0.9280\n",
            "Epoch 10/15\n",
            "5/5 [==============================] - 2s 411ms/step - loss: 0.1502 - accuracy: 0.9619 - val_loss: 0.1860 - val_accuracy: 0.9040\n",
            "Epoch 11/15\n",
            "5/5 [==============================] - 2s 429ms/step - loss: 0.1256 - accuracy: 0.9699 - val_loss: 0.1686 - val_accuracy: 0.9440\n",
            "Epoch 12/15\n",
            "5/5 [==============================] - 2s 415ms/step - loss: 0.1025 - accuracy: 0.9820 - val_loss: 0.1538 - val_accuracy: 0.9520\n",
            "Epoch 13/15\n",
            "5/5 [==============================] - 2s 414ms/step - loss: 0.0802 - accuracy: 0.9800 - val_loss: 0.1286 - val_accuracy: 0.9440\n",
            "Epoch 14/15\n",
            "5/5 [==============================] - 2s 404ms/step - loss: 0.0625 - accuracy: 0.9880 - val_loss: 0.1202 - val_accuracy: 0.9520\n",
            "Epoch 15/15\n",
            "5/5 [==============================] - 2s 391ms/step - loss: 0.0559 - accuracy: 0.9840 - val_loss: 0.1018 - val_accuracy: 0.9680\n"
          ],
          "name": "stdout"
        },
        {
          "output_type": "execute_result",
          "data": {
            "text/plain": [
              "<tensorflow.python.keras.callbacks.History at 0x7ff85760b208>"
            ]
          },
          "metadata": {
            "tags": []
          },
          "execution_count": 13
        }
      ]
    },
    {
      "cell_type": "code",
      "metadata": {
        "id": "YuBfsSscD0IU",
        "colab_type": "code",
        "colab": {}
      },
      "source": [
        ""
      ],
      "execution_count": null,
      "outputs": []
    },
    {
      "cell_type": "code",
      "metadata": {
        "id": "oNljKCAzD0RV",
        "colab_type": "code",
        "colab": {}
      },
      "source": [
        ""
      ],
      "execution_count": null,
      "outputs": []
    },
    {
      "cell_type": "code",
      "metadata": {
        "id": "S50j8SfZD0bY",
        "colab_type": "code",
        "colab": {}
      },
      "source": [
        ""
      ],
      "execution_count": null,
      "outputs": []
    },
    {
      "cell_type": "code",
      "metadata": {
        "id": "jRWyUYQGD0kc",
        "colab_type": "code",
        "colab": {}
      },
      "source": [
        ""
      ],
      "execution_count": null,
      "outputs": []
    },
    {
      "cell_type": "code",
      "metadata": {
        "id": "2Odai0rfD0tg",
        "colab_type": "code",
        "colab": {}
      },
      "source": [
        ""
      ],
      "execution_count": null,
      "outputs": []
    }
  ]
}